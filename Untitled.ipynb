{
 "cells": [
  {
   "cell_type": "code",
   "execution_count": 1,
   "id": "7814d0f6",
   "metadata": {},
   "outputs": [
    {
     "name": "stderr",
     "output_type": "stream",
     "text": [
      "ERROR: Could not find a version that satisfies the requirement seleninum (from versions: none)\n",
      "ERROR: No matching distribution found for seleninum\n"
     ]
    }
   ],
   "source": [
    "!pip install seleninum"
   ]
  },
  {
   "cell_type": "code",
   "execution_count": null,
   "id": "e605510a",
   "metadata": {},
   "outputs": [],
   "source": []
  }
 ],
 "metadata": {
  "kernelspec": {
   "display_name": "Python 3 (ipykernel)",
   "language": "python",
   "name": "python3"
  },
  "language_info": {
   "codemirror_mode": {
    "name": "ipython",
    "version": 3
   },
   "file_extension": ".py",
   "mimetype": "text/x-python",
   "name": "python",
   "nbconvert_exporter": "python",
   "pygments_lexer": "ipython3",
   "version": "3.11.5"
  }
 },
 "nbformat": 4,
 "nbformat_minor": 5
}
